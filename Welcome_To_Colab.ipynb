{
  "cells": [
    {
      "cell_type": "markdown",
      "metadata": {
        "id": "view-in-github",
        "colab_type": "text"
      },
      "source": [
        "<a href=\"https://colab.research.google.com/github/Anshikamishra-1234/Python-Case-Study/blob/main/Welcome_To_Colab.ipynb\" target=\"_parent\"><img src=\"https://colab.research.google.com/assets/colab-badge.svg\" alt=\"Open In Colab\"/></a>"
      ]
    },
    {
      "cell_type": "code",
      "source": [
        "f=open(\"/content/pythonfile.txt\",\"r\")\n",
        "print(f.read())\n",
        "f.close()\n",
        "f=open(\"newFile.txt\",\"a\")\n",
        "f.write(\"\\nHello World\")\n",
        "f.close()\n",
        "f=open(\"newFile.txt\",\"r\")\n",
        "print(f.read())\n",
        "f.close()"
      ],
      "metadata": {
        "colab": {
          "base_uri": "https://localhost:8080/"
        },
        "id": "1vhPVCz6616X",
        "outputId": "087d90f9-88eb-460e-894b-6b3f191395ca"
      },
      "execution_count": 11,
      "outputs": [
        {
          "output_type": "stream",
          "name": "stdout",
          "text": [
            "Python for Engineers\n",
            "cse\n",
            "\n",
            "Hello World\n",
            "Hello World\n",
            "Hello World\n"
          ]
        }
      ]
    },
    {
      "cell_type": "code",
      "source": [
        "f=open(\"/content/pythonfile.txt\",\"r\")\n",
        "print(f.readlines())\n",
        "f.close()"
      ],
      "metadata": {
        "colab": {
          "base_uri": "https://localhost:8080/"
        },
        "id": "Z81rob2t9RR8",
        "outputId": "0b0f73d9-8184-4b11-f5ed-ca001cf4c404"
      },
      "execution_count": 12,
      "outputs": [
        {
          "output_type": "stream",
          "name": "stdout",
          "text": [
            "['Python for Engineers\\n', 'cse']\n"
          ]
        }
      ]
    },
    {
      "cell_type": "code",
      "source": [
        "f=open(\"/content/pythonfile.txt\",\"w\")\n",
        "f.writelines([\"hello\\n\",\"welcome\\n\"])\n",
        "f.close()\n",
        "f=open(\"/content/pythonfile.txt\",\"r\")\n",
        "print(f.read())"
      ],
      "metadata": {
        "colab": {
          "base_uri": "https://localhost:8080/"
        },
        "id": "YOoBXBqn9mgu",
        "outputId": "de7db430-3276-441f-d766-00f4e77b6e67"
      },
      "execution_count": 14,
      "outputs": [
        {
          "output_type": "stream",
          "name": "stdout",
          "text": [
            "hello\n",
            "welcome\n",
            "\n"
          ]
        }
      ]
    },
    {
      "cell_type": "code",
      "source": [
        "fo=open(\"newFile.txt\",\"r\")\n",
        "print(\"Name of file: \",fo.name)\n",
        "print(\"Closed or not: \",fo.closed)\n",
        "print(\"Opening mode: \",fo.mode)\n",
        "fo.close()\n",
        "print(\"Closed or not: \",fo.closed)"
      ],
      "metadata": {
        "colab": {
          "base_uri": "https://localhost:8080/"
        },
        "id": "JO9JfYfj-dsh",
        "outputId": "9f768d8b-6ae4-4a5b-e9bd-ec96855d9a3b"
      },
      "execution_count": 16,
      "outputs": [
        {
          "output_type": "stream",
          "name": "stdout",
          "text": [
            "Name of file:  newFile.txt\n",
            "Closed or not:  False\n",
            "Opening mode:  r\n",
            "Closed or not:  True\n"
          ]
        }
      ]
    },
    {
      "cell_type": "code",
      "source": [
        "fo=open(\"newFile.txt\",\"r\")\n",
        "#move to 11 character\n",
        "f.seek(11)\n",
        "#read from 11th character\n",
        "print(f.read())"
      ],
      "metadata": {
        "colab": {
          "base_uri": "https://localhost:8080/"
        },
        "id": "UVvfiBRs_udh",
        "outputId": "41a7e191-6a59-436e-820a-336a98dd824e"
      },
      "execution_count": 17,
      "outputs": [
        {
          "output_type": "stream",
          "name": "stdout",
          "text": [
            "me\n",
            "\n"
          ]
        }
      ]
    },
    {
      "cell_type": "code",
      "source": [
        "fo=open(\"newFile.txt\",\"r\")\n",
        "#read first line\n",
        "f.readline()\n",
        "#get current position of file handle\n",
        "print(f.tell())"
      ],
      "metadata": {
        "colab": {
          "base_uri": "https://localhost:8080/"
        },
        "id": "TfX0UAIYAwWi",
        "outputId": "98bfc5d9-63cb-40f2-da70-64fbbe9bb53a"
      },
      "execution_count": 18,
      "outputs": [
        {
          "output_type": "stream",
          "name": "stdout",
          "text": [
            "14\n"
          ]
        }
      ]
    },
    {
      "cell_type": "code",
      "source": [
        "import os\n",
        "os.rename(\"File.text\",\"File.txt\")"
      ],
      "metadata": {
        "id": "jatPtFsdDLX3"
      },
      "execution_count": 21,
      "outputs": []
    },
    {
      "cell_type": "code",
      "source": [
        "import os\n",
        "os.remove(\"File.txt\")"
      ],
      "metadata": {
        "id": "-N6kf6pNDhNI"
      },
      "execution_count": 22,
      "outputs": []
    },
    {
      "cell_type": "code",
      "source": [],
      "metadata": {
        "id": "Yer-GbKsEulG"
      },
      "execution_count": null,
      "outputs": []
    },
    {
      "cell_type": "code",
      "source": [
        "import os\n",
        "os.mkdir(\"test\")"
      ],
      "metadata": {
        "id": "1tEZzHPLD6nm"
      },
      "execution_count": 23,
      "outputs": []
    },
    {
      "cell_type": "code",
      "source": [],
      "metadata": {
        "id": "p99nD0ckEPrK"
      },
      "execution_count": null,
      "outputs": []
    }
  ],
  "metadata": {
    "colab": {
      "name": "Welcome To Colab",
      "provenance": [],
      "include_colab_link": true
    },
    "kernelspec": {
      "display_name": "Python 3",
      "name": "python3"
    }
  },
  "nbformat": 4,
  "nbformat_minor": 0
}